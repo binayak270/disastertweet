{
 "cells": [
  {
   "cell_type": "code",
   "execution_count": 1,
   "id": "076bef1c",
   "metadata": {
    "_cell_guid": "b1076dfc-b9ad-4769-8c92-a6c4dae69d19",
    "_uuid": "8f2839f25d086af736a60e9eeb907d3b93b6e0e5",
    "execution": {
     "iopub.execute_input": "2023-08-01T05:05:54.141362Z",
     "iopub.status.busy": "2023-08-01T05:05:54.140988Z",
     "iopub.status.idle": "2023-08-01T05:05:54.155276Z",
     "shell.execute_reply": "2023-08-01T05:05:54.154059Z"
    },
    "papermill": {
     "duration": 0.028761,
     "end_time": "2023-08-01T05:05:54.157918",
     "exception": false,
     "start_time": "2023-08-01T05:05:54.129157",
     "status": "completed"
    },
    "tags": []
   },
   "outputs": [
    {
     "name": "stdout",
     "output_type": "stream",
     "text": [
      "/kaggle/input/nlp-getting-started/sample_submission.csv\n",
      "/kaggle/input/nlp-getting-started/train.csv\n",
      "/kaggle/input/nlp-getting-started/test.csv\n"
     ]
    }
   ],
   "source": [
    "# This Python 3 environment comes with many helpful analytics libraries installed\n",
    "# It is defined by the kaggle/python Docker image: https://github.com/kaggle/docker-python\n",
    "# For example, here's several helpful packages to load\n",
    "\n",
    "import numpy as np # linear algebra\n",
    "import pandas as pd # data processing, CSV file I/O (e.g. pd.read_csv)\n",
    "\n",
    "# Input data files are available in the read-only \"../input/\" directory\n",
    "# For example, running this (by clicking run or pressing Shift+Enter) will list all files under the input directory\n",
    "\n",
    "import os\n",
    "for dirname, _, filenames in os.walk('/kaggle/input'):\n",
    "    for filename in filenames:\n",
    "        print(os.path.join(dirname, filename))\n",
    "\n",
    "# You can write up to 20GB to the current directory (/kaggle/working/) that gets preserved as output when you create a version using \"Save & Run All\" \n",
    "# You can also write temporary files to /kaggle/temp/, but they won't be saved outside of the current session"
   ]
  },
  {
   "cell_type": "code",
   "execution_count": 2,
   "id": "8374ba42",
   "metadata": {
    "execution": {
     "iopub.execute_input": "2023-08-01T05:05:54.181763Z",
     "iopub.status.busy": "2023-08-01T05:05:54.180721Z",
     "iopub.status.idle": "2023-08-01T05:05:56.190567Z",
     "shell.execute_reply": "2023-08-01T05:05:56.189125Z"
    },
    "papermill": {
     "duration": 2.026268,
     "end_time": "2023-08-01T05:05:56.193665",
     "exception": false,
     "start_time": "2023-08-01T05:05:54.167397",
     "status": "completed"
    },
    "tags": []
   },
   "outputs": [
    {
     "name": "stderr",
     "output_type": "stream",
     "text": [
      "/opt/conda/lib/python3.10/site-packages/scipy/__init__.py:146: UserWarning: A NumPy version >=1.16.5 and <1.23.0 is required for this version of SciPy (detected version 1.23.5\n",
      "  warnings.warn(f\"A NumPy version >={np_minversion} and <{np_maxversion}\"\n"
     ]
    }
   ],
   "source": [
    "import numpy as np # linear algebra\n",
    "import pandas as pd # data processing, CSV file I/O (e.g. pd.read_csv)\n",
    "import os\n",
    "import re\n",
    "import string\n",
    "import nltk    \n",
    "import matplotlib.pyplot as plt    \n",
    "from matplotlib.patches import Ellipse\n",
    "import matplotlib.transforms as transforms\n",
    "\n",
    "from nltk.corpus import twitter_samples\n",
    "from nltk.corpus import stopwords\n",
    "from nltk.stem import PorterStemmer\n",
    "from nltk.tokenize import TweetTokenizer\n",
    "\n",
    "from sklearn import feature_extraction, linear_model, model_selection, preprocessing"
   ]
  },
  {
   "cell_type": "code",
   "execution_count": 3,
   "id": "9b1a326a",
   "metadata": {
    "execution": {
     "iopub.execute_input": "2023-08-01T05:05:56.214035Z",
     "iopub.status.busy": "2023-08-01T05:05:56.212944Z",
     "iopub.status.idle": "2023-08-01T05:05:56.221280Z",
     "shell.execute_reply": "2023-08-01T05:05:56.220012Z"
    },
    "papermill": {
     "duration": 0.021741,
     "end_time": "2023-08-01T05:05:56.223689",
     "exception": false,
     "start_time": "2023-08-01T05:05:56.201948",
     "status": "completed"
    },
    "tags": []
   },
   "outputs": [],
   "source": [
    "#text preprocessing\n",
    "def process_tweet(tweet):\n",
    "    stemmer=PorterStemmer()\n",
    "    stopwords_english=stopwords.words('english')\n",
    "    tweet=re.sub(r'\\$\\w*','',tweet)\n",
    "    tweet=re.sub(r'^RT[\\s]+','',tweet)\n",
    "    tweet = re.sub(r'https?://[^\\s\\n\\r]+', '', tweet)\n",
    "    tweet=re.sub(r'#', '', tweet)\n",
    "    tokenizer=TweetTokenizer(preserve_case=False,strip_handles=True,reduce_len=True)\n",
    "    tweet_tokens=tokenizer.tokenize(tweet)\n",
    "    \n",
    "    tweets_clean=[]\n",
    "    for word in tweet_tokens:\n",
    "        if (word not in stopwords_english and word not in string.punctuation):\n",
    "            stem_word=stemmer.stem(word)\n",
    "            tweets_clean.append(stem_word)\n",
    "            \n",
    "    return tweets_clean"
   ]
  },
  {
   "cell_type": "markdown",
   "id": "e40b8578",
   "metadata": {
    "papermill": {
     "duration": 0.007962,
     "end_time": "2023-08-01T05:05:56.240306",
     "exception": false,
     "start_time": "2023-08-01T05:05:56.232344",
     "status": "completed"
    },
    "tags": []
   },
   "source": [
    "Use below function to build the frequency matrix, in the form of ('word',1/0):number of words"
   ]
  },
  {
   "cell_type": "code",
   "execution_count": 4,
   "id": "5249fb14",
   "metadata": {
    "execution": {
     "iopub.execute_input": "2023-08-01T05:05:56.258421Z",
     "iopub.status.busy": "2023-08-01T05:05:56.257776Z",
     "iopub.status.idle": "2023-08-01T05:05:56.263402Z",
     "shell.execute_reply": "2023-08-01T05:05:56.262665Z"
    },
    "papermill": {
     "duration": 0.017043,
     "end_time": "2023-08-01T05:05:56.265557",
     "exception": false,
     "start_time": "2023-08-01T05:05:56.248514",
     "status": "completed"
    },
    "tags": []
   },
   "outputs": [],
   "source": [
    "def build_freqs(tweets,ys):\n",
    "    yslist = np.squeeze(ys).tolist()\n",
    "\n",
    "    freqs = {}\n",
    "    for y, tweet in zip(yslist, tweets):\n",
    "        for word in process_tweet(tweet):\n",
    "            pair = (word, y)\n",
    "            if pair in freqs:\n",
    "                freqs[pair] += 1\n",
    "            else:\n",
    "                freqs[pair] = 1\n",
    "\n",
    "    return freqs"
   ]
  },
  {
   "cell_type": "markdown",
   "id": "a14e818f",
   "metadata": {
    "papermill": {
     "duration": 0.008491,
     "end_time": "2023-08-01T05:05:56.282308",
     "exception": false,
     "start_time": "2023-08-01T05:05:56.273817",
     "status": "completed"
    },
    "tags": []
   },
   "source": [
    "> **Exploring dataset**"
   ]
  },
  {
   "cell_type": "code",
   "execution_count": 5,
   "id": "19ada0d1",
   "metadata": {
    "execution": {
     "iopub.execute_input": "2023-08-01T05:05:56.300720Z",
     "iopub.status.busy": "2023-08-01T05:05:56.299884Z",
     "iopub.status.idle": "2023-08-01T05:05:56.430737Z",
     "shell.execute_reply": "2023-08-01T05:05:56.429325Z"
    },
    "papermill": {
     "duration": 0.143027,
     "end_time": "2023-08-01T05:05:56.433431",
     "exception": false,
     "start_time": "2023-08-01T05:05:56.290404",
     "status": "completed"
    },
    "tags": []
   },
   "outputs": [
    {
     "name": "stderr",
     "output_type": "stream",
     "text": [
      "/tmp/ipykernel_20/1335868174.py:3: FutureWarning: The frame.append method is deprecated and will be removed from pandas in a future version. Use pandas.concat instead.\n",
      "  train = train.append(test).drop_duplicates(keep=False)\n"
     ]
    }
   ],
   "source": [
    "test = pd.read_csv('/kaggle/input/nlp-getting-started/train.csv').sample(2000, random_state=10)\n",
    "train = pd.read_csv('/kaggle/input/nlp-getting-started/train.csv')\n",
    "train = train.append(test).drop_duplicates(keep=False)\n",
    "\n",
    "validation = pd.read_csv('/kaggle/input/nlp-getting-started/test.csv')"
   ]
  },
  {
   "cell_type": "code",
   "execution_count": 6,
   "id": "14ea7d15",
   "metadata": {
    "execution": {
     "iopub.execute_input": "2023-08-01T05:05:56.452943Z",
     "iopub.status.busy": "2023-08-01T05:05:56.451807Z",
     "iopub.status.idle": "2023-08-01T05:05:56.560382Z",
     "shell.execute_reply": "2023-08-01T05:05:56.559444Z"
    },
    "papermill": {
     "duration": 0.121311,
     "end_time": "2023-08-01T05:05:56.563012",
     "exception": false,
     "start_time": "2023-08-01T05:05:56.441701",
     "status": "completed"
    },
    "tags": []
   },
   "outputs": [
    {
     "name": "stdout",
     "output_type": "stream",
     "text": [
      "[nltk_data] Downloading package stopwords to /usr/share/nltk_data...\n",
      "[nltk_data]   Package stopwords is already up-to-date!\n"
     ]
    },
    {
     "data": {
      "text/plain": [
       "True"
      ]
     },
     "execution_count": 6,
     "metadata": {},
     "output_type": "execute_result"
    }
   ],
   "source": [
    "nltk.download('stopwords')"
   ]
  },
  {
   "cell_type": "markdown",
   "id": "c96be587",
   "metadata": {
    "papermill": {
     "duration": 0.008112,
     "end_time": "2023-08-01T05:05:56.579679",
     "exception": false,
     "start_time": "2023-08-01T05:05:56.571567",
     "status": "completed"
    },
    "tags": []
   },
   "source": [
    "**Data preparation**"
   ]
  },
  {
   "cell_type": "code",
   "execution_count": 7,
   "id": "54973e0b",
   "metadata": {
    "execution": {
     "iopub.execute_input": "2023-08-01T05:05:56.599117Z",
     "iopub.status.busy": "2023-08-01T05:05:56.598676Z",
     "iopub.status.idle": "2023-08-01T05:05:56.607841Z",
     "shell.execute_reply": "2023-08-01T05:05:56.607042Z"
    },
    "papermill": {
     "duration": 0.022155,
     "end_time": "2023-08-01T05:05:56.610172",
     "exception": false,
     "start_time": "2023-08-01T05:05:56.588017",
     "status": "completed"
    },
    "tags": []
   },
   "outputs": [
    {
     "name": "stdout",
     "output_type": "stream",
     "text": [
      "2412\n",
      "3201\n"
     ]
    }
   ],
   "source": [
    "train_df1 = list(train[train['target']==1]['text'])\n",
    "train_df0 = list(train[train['target']==0]['text'])\n",
    "print(len(train_df1))\n",
    "print(len(train_df0))"
   ]
  },
  {
   "cell_type": "code",
   "execution_count": 8,
   "id": "d5b1468c",
   "metadata": {
    "execution": {
     "iopub.execute_input": "2023-08-01T05:05:56.628985Z",
     "iopub.status.busy": "2023-08-01T05:05:56.628575Z",
     "iopub.status.idle": "2023-08-01T05:05:56.634465Z",
     "shell.execute_reply": "2023-08-01T05:05:56.633363Z"
    },
    "papermill": {
     "duration": 0.01825,
     "end_time": "2023-08-01T05:05:56.636928",
     "exception": false,
     "start_time": "2023-08-01T05:05:56.618678",
     "status": "completed"
    },
    "tags": []
   },
   "outputs": [
    {
     "name": "stdout",
     "output_type": "stream",
     "text": [
      "No of tweets:  5613\n"
     ]
    }
   ],
   "source": [
    "tweets=train_df1+train_df0\n",
    "print('No of tweets: ',len(tweets))\n",
    "\n",
    "labels=np.append(np.ones((len(train_df1))),np.zeros((len(train_df0))))"
   ]
  },
  {
   "cell_type": "code",
   "execution_count": 9,
   "id": "560e3179",
   "metadata": {
    "execution": {
     "iopub.execute_input": "2023-08-01T05:05:56.656334Z",
     "iopub.status.busy": "2023-08-01T05:05:56.655889Z",
     "iopub.status.idle": "2023-08-01T05:05:59.825295Z",
     "shell.execute_reply": "2023-08-01T05:05:59.824024Z"
    },
    "papermill": {
     "duration": 3.182124,
     "end_time": "2023-08-01T05:05:59.827867",
     "exception": false,
     "start_time": "2023-08-01T05:05:56.645743",
     "status": "completed"
    },
    "tags": []
   },
   "outputs": [],
   "source": [
    "#create frequency dictionary\n",
    "freqs=build_freqs(tweets,labels)"
   ]
  },
  {
   "cell_type": "markdown",
   "id": "00803439",
   "metadata": {
    "papermill": {
     "duration": 0.00796,
     "end_time": "2023-08-01T05:05:59.844685",
     "exception": false,
     "start_time": "2023-08-01T05:05:59.836725",
     "status": "completed"
    },
    "tags": []
   },
   "source": [
    "**Model preparation**"
   ]
  },
  {
   "cell_type": "code",
   "execution_count": 10,
   "id": "3dc6dbf4",
   "metadata": {
    "execution": {
     "iopub.execute_input": "2023-08-01T05:05:59.863014Z",
     "iopub.status.busy": "2023-08-01T05:05:59.862593Z",
     "iopub.status.idle": "2023-08-01T05:05:59.868148Z",
     "shell.execute_reply": "2023-08-01T05:05:59.867008Z"
    },
    "papermill": {
     "duration": 0.017397,
     "end_time": "2023-08-01T05:05:59.870566",
     "exception": false,
     "start_time": "2023-08-01T05:05:59.853169",
     "status": "completed"
    },
    "tags": []
   },
   "outputs": [],
   "source": [
    "def sigmoid(z):\n",
    "    h=1/(1+np.exp(z*(-1)))  \n",
    "    return h"
   ]
  },
  {
   "cell_type": "code",
   "execution_count": 11,
   "id": "094a7124",
   "metadata": {
    "execution": {
     "iopub.execute_input": "2023-08-01T05:05:59.889235Z",
     "iopub.status.busy": "2023-08-01T05:05:59.888613Z",
     "iopub.status.idle": "2023-08-01T05:05:59.894977Z",
     "shell.execute_reply": "2023-08-01T05:05:59.894172Z"
    },
    "papermill": {
     "duration": 0.017911,
     "end_time": "2023-08-01T05:05:59.896948",
     "exception": false,
     "start_time": "2023-08-01T05:05:59.879037",
     "status": "completed"
    },
    "tags": []
   },
   "outputs": [],
   "source": [
    "def gradientDescent(x,y,theta,alpha,num_iters):\n",
    "    m=len(x)\n",
    "    for i in range(0,num_iters):\n",
    "        z=np.dot(x,theta)\n",
    "        h=sigmoid(z)\n",
    "        J=((-1)/m)*(np.dot(np.transpose(y),np.log(h))+np.dot(np.transpose(1-y),np.log(1-h)))\n",
    "        #update the weights theta\n",
    "        theta=theta-((alpha/m*(np.dot(np.transpose(x),(h-y)))))\n",
    "    J=float(J)\n",
    "    return J,theta"
   ]
  },
  {
   "cell_type": "markdown",
   "id": "6446a978",
   "metadata": {
    "papermill": {
     "duration": 0.007969,
     "end_time": "2023-08-01T05:05:59.913377",
     "exception": false,
     "start_time": "2023-08-01T05:05:59.905408",
     "status": "completed"
    },
    "tags": []
   },
   "source": [
    "**Feature Extraction**"
   ]
  },
  {
   "cell_type": "code",
   "execution_count": 12,
   "id": "1974a0cc",
   "metadata": {
    "execution": {
     "iopub.execute_input": "2023-08-01T05:05:59.931944Z",
     "iopub.status.busy": "2023-08-01T05:05:59.931574Z",
     "iopub.status.idle": "2023-08-01T05:05:59.937514Z",
     "shell.execute_reply": "2023-08-01T05:05:59.936543Z"
    },
    "papermill": {
     "duration": 0.017663,
     "end_time": "2023-08-01T05:05:59.939495",
     "exception": false,
     "start_time": "2023-08-01T05:05:59.921832",
     "status": "completed"
    },
    "tags": []
   },
   "outputs": [],
   "source": [
    "def extract_features(tweet,freqs,process_tweet=process_tweet):\n",
    "    word_l=process_tweet(tweet)\n",
    "    x=np.zeros(3)\n",
    "    x[0]=1\n",
    "    \n",
    "    for word in word_l:\n",
    "        x[1]+=freqs.get((word,1),0)\n",
    "        x[2]+=freqs.get((word,0),0)\n",
    "    x=x[None,:]\n",
    "    assert(x.shape==(1,3))\n",
    "    return x"
   ]
  },
  {
   "cell_type": "code",
   "execution_count": 13,
   "id": "fc0a5cbe",
   "metadata": {
    "execution": {
     "iopub.execute_input": "2023-08-01T05:05:59.958185Z",
     "iopub.status.busy": "2023-08-01T05:05:59.957759Z",
     "iopub.status.idle": "2023-08-01T05:05:59.964198Z",
     "shell.execute_reply": "2023-08-01T05:05:59.963025Z"
    },
    "papermill": {
     "duration": 0.018613,
     "end_time": "2023-08-01T05:05:59.966524",
     "exception": false,
     "start_time": "2023-08-01T05:05:59.947911",
     "status": "completed"
    },
    "tags": []
   },
   "outputs": [],
   "source": [
    "train_x=tweets\n",
    "train_y=pd.DataFrame({'col':labels})\n",
    "\n",
    "test_x=test['text']\n",
    "test_y=test['target']"
   ]
  },
  {
   "cell_type": "markdown",
   "id": "7dc37426",
   "metadata": {
    "papermill": {
     "duration": 0.008057,
     "end_time": "2023-08-01T05:05:59.983119",
     "exception": false,
     "start_time": "2023-08-01T05:05:59.975062",
     "status": "completed"
    },
    "tags": []
   },
   "source": [
    "**Define predictive function**"
   ]
  },
  {
   "cell_type": "code",
   "execution_count": 14,
   "id": "0180d2d2",
   "metadata": {
    "execution": {
     "iopub.execute_input": "2023-08-01T05:06:00.002149Z",
     "iopub.status.busy": "2023-08-01T05:06:00.001098Z",
     "iopub.status.idle": "2023-08-01T05:06:00.006886Z",
     "shell.execute_reply": "2023-08-01T05:06:00.005697Z"
    },
    "papermill": {
     "duration": 0.017691,
     "end_time": "2023-08-01T05:06:00.009236",
     "exception": false,
     "start_time": "2023-08-01T05:05:59.991545",
     "status": "completed"
    },
    "tags": []
   },
   "outputs": [],
   "source": [
    "def predict_tweet(tweet,freqs,theta):\n",
    "    x=extract_features(tweet,freqs)\n",
    "    y_pred=sigmoid(np.dot(x,theta))\n",
    "    \n",
    "    return y_pred"
   ]
  },
  {
   "cell_type": "markdown",
   "id": "15a0cdfe",
   "metadata": {
    "papermill": {
     "duration": 0.007961,
     "end_time": "2023-08-01T05:06:00.025682",
     "exception": false,
     "start_time": "2023-08-01T05:06:00.017721",
     "status": "completed"
    },
    "tags": []
   },
   "source": [
    "Performance monitor"
   ]
  },
  {
   "cell_type": "code",
   "execution_count": 15,
   "id": "a962888c",
   "metadata": {
    "execution": {
     "iopub.execute_input": "2023-08-01T05:06:00.044183Z",
     "iopub.status.busy": "2023-08-01T05:06:00.043778Z",
     "iopub.status.idle": "2023-08-01T05:06:00.050180Z",
     "shell.execute_reply": "2023-08-01T05:06:00.048948Z"
    },
    "papermill": {
     "duration": 0.018246,
     "end_time": "2023-08-01T05:06:00.052372",
     "exception": false,
     "start_time": "2023-08-01T05:06:00.034126",
     "status": "completed"
    },
    "tags": []
   },
   "outputs": [],
   "source": [
    "def test_logistic_regression(test_x, test_y, freqs, theta, predict_tweet=predict_tweet,thd=0.5):\n",
    "    y_hat=[]\n",
    "    for tweet in test_x:\n",
    "        y_pred=predict_tweet(tweet,freqs,theta)\n",
    "        if y_pred>thd:\n",
    "            y_hat.append(1.0)\n",
    "        else:\n",
    "            y_hat.append(0.0)\n",
    "            \n",
    "    accuracy=np.sum(np.array(y_hat)==np.squeeze(test_y))/len(np.array(y_hat))\n",
    "    return accuracy"
   ]
  },
  {
   "cell_type": "code",
   "execution_count": 16,
   "id": "60a0d6cd",
   "metadata": {
    "execution": {
     "iopub.execute_input": "2023-08-01T05:06:00.071616Z",
     "iopub.status.busy": "2023-08-01T05:06:00.070529Z",
     "iopub.status.idle": "2023-08-01T05:06:03.440943Z",
     "shell.execute_reply": "2023-08-01T05:06:03.439788Z"
    },
    "papermill": {
     "duration": 3.382654,
     "end_time": "2023-08-01T05:06:03.443550",
     "exception": false,
     "start_time": "2023-08-01T05:06:00.060896",
     "status": "completed"
    },
    "tags": []
   },
   "outputs": [],
   "source": [
    "X = np.zeros((len(train_x), 3))\n",
    "for i in range(len(train_x)):\n",
    "    X[i, :]= extract_features(train_x[i], freqs)\n",
    "\n",
    "Y = train_y"
   ]
  },
  {
   "cell_type": "markdown",
   "id": "f4552f96",
   "metadata": {
    "papermill": {
     "duration": 0.008586,
     "end_time": "2023-08-01T05:06:03.460769",
     "exception": false,
     "start_time": "2023-08-01T05:06:03.452183",
     "status": "completed"
    },
    "tags": []
   },
   "source": [
    "**EDA- Visualize the distribution of the training set**"
   ]
  },
  {
   "cell_type": "code",
   "execution_count": 17,
   "id": "3b76c6cc",
   "metadata": {
    "execution": {
     "iopub.execute_input": "2023-08-01T05:06:03.479366Z",
     "iopub.status.busy": "2023-08-01T05:06:03.478978Z",
     "iopub.status.idle": "2023-08-01T05:06:03.510907Z",
     "shell.execute_reply": "2023-08-01T05:06:03.509665Z"
    },
    "papermill": {
     "duration": 0.044349,
     "end_time": "2023-08-01T05:06:03.513624",
     "exception": false,
     "start_time": "2023-08-01T05:06:03.469275",
     "status": "completed"
    },
    "tags": []
   },
   "outputs": [],
   "source": [
    "data_df=pd.read_csv('/kaggle/input/nlp-getting-started/train.csv')"
   ]
  },
  {
   "cell_type": "code",
   "execution_count": 18,
   "id": "e68271b6",
   "metadata": {
    "execution": {
     "iopub.execute_input": "2023-08-01T05:06:03.532323Z",
     "iopub.status.busy": "2023-08-01T05:06:03.531913Z",
     "iopub.status.idle": "2023-08-01T05:06:03.836654Z",
     "shell.execute_reply": "2023-08-01T05:06:03.835545Z"
    },
    "papermill": {
     "duration": 0.316788,
     "end_time": "2023-08-01T05:06:03.839047",
     "exception": false,
     "start_time": "2023-08-01T05:06:03.522259",
     "status": "completed"
    },
    "tags": []
   },
   "outputs": [
    {
     "data": {
      "text/plain": [
       "<Axes: >"
      ]
     },
     "execution_count": 18,
     "metadata": {},
     "output_type": "execute_result"
    },
    {
     "data": {
      "image/png": "[encoded data removed]",
      "text/plain": [
       "<Figure size 640x480 with 1 Axes>"
      ]
     },
     "metadata": {},
     "output_type": "display_data"
    }
   ],
   "source": [
    "data_df.target.hist()"
   ]
  },
  {
   "cell_type": "code",
   "execution_count": 19,
   "id": "66f11887",
   "metadata": {
    "execution": {
     "iopub.execute_input": "2023-08-01T05:06:03.858451Z",
     "iopub.status.busy": "2023-08-01T05:06:03.858045Z",
     "iopub.status.idle": "2023-08-01T05:06:03.865874Z",
     "shell.execute_reply": "2023-08-01T05:06:03.864819Z"
    },
    "papermill": {
     "duration": 0.019781,
     "end_time": "2023-08-01T05:06:03.867863",
     "exception": false,
     "start_time": "2023-08-01T05:06:03.848082",
     "status": "completed"
    },
    "tags": []
   },
   "outputs": [
    {
     "data": {
      "text/plain": [
       "array([nan, 'Birmingham', 'Est. September 2012 - Bristol', ...,\n",
       "       'Vancouver, Canada', 'London ', 'Lincoln'], dtype=object)"
      ]
     },
     "execution_count": 19,
     "metadata": {},
     "output_type": "execute_result"
    }
   ],
   "source": [
    "data_df.location.unique()"
   ]
  },
  {
   "cell_type": "code",
   "execution_count": 20,
   "id": "8c9c7d6c",
   "metadata": {
    "execution": {
     "iopub.execute_input": "2023-08-01T05:06:03.888243Z",
     "iopub.status.busy": "2023-08-01T05:06:03.887855Z",
     "iopub.status.idle": "2023-08-01T05:06:03.895161Z",
     "shell.execute_reply": "2023-08-01T05:06:03.894368Z"
    },
    "papermill": {
     "duration": 0.019632,
     "end_time": "2023-08-01T05:06:03.897455",
     "exception": false,
     "start_time": "2023-08-01T05:06:03.877823",
     "status": "completed"
    },
    "tags": []
   },
   "outputs": [
    {
     "data": {
      "text/plain": [
       "array([nan, 'ablaze', 'accident', 'aftershock', 'airplane%20accident',\n",
       "       'ambulance', 'annihilated', 'annihilation', 'apocalypse',\n",
       "       'armageddon', 'army', 'arson', 'arsonist', 'attack', 'attacked',\n",
       "       'avalanche', 'battle', 'bioterror', 'bioterrorism', 'blaze',\n",
       "       'blazing', 'bleeding', 'blew%20up', 'blight', 'blizzard', 'blood',\n",
       "       'bloody', 'blown%20up', 'body%20bag', 'body%20bagging',\n",
       "       'body%20bags', 'bomb', 'bombed', 'bombing', 'bridge%20collapse',\n",
       "       'buildings%20burning', 'buildings%20on%20fire', 'burned',\n",
       "       'burning', 'burning%20buildings', 'bush%20fires', 'casualties',\n",
       "       'casualty', 'catastrophe', 'catastrophic', 'chemical%20emergency',\n",
       "       'cliff%20fall', 'collapse', 'collapsed', 'collide', 'collided',\n",
       "       'collision', 'crash', 'crashed', 'crush', 'crushed', 'curfew',\n",
       "       'cyclone', 'damage', 'danger', 'dead', 'death', 'deaths', 'debris',\n",
       "       'deluge', 'deluged', 'demolish', 'demolished', 'demolition',\n",
       "       'derail', 'derailed', 'derailment', 'desolate', 'desolation',\n",
       "       'destroy', 'destroyed', 'destruction', 'detonate', 'detonation',\n",
       "       'devastated', 'devastation', 'disaster', 'displaced', 'drought',\n",
       "       'drown', 'drowned', 'drowning', 'dust%20storm', 'earthquake',\n",
       "       'electrocute', 'electrocuted', 'emergency', 'emergency%20plan',\n",
       "       'emergency%20services', 'engulfed', 'epicentre', 'evacuate',\n",
       "       'evacuated', 'evacuation', 'explode', 'exploded', 'explosion',\n",
       "       'eyewitness', 'famine', 'fatal', 'fatalities', 'fatality', 'fear',\n",
       "       'fire', 'fire%20truck', 'first%20responders', 'flames',\n",
       "       'flattened', 'flood', 'flooding', 'floods', 'forest%20fire',\n",
       "       'forest%20fires', 'hail', 'hailstorm', 'harm', 'hazard',\n",
       "       'hazardous', 'heat%20wave', 'hellfire', 'hijack', 'hijacker',\n",
       "       'hijacking', 'hostage', 'hostages', 'hurricane', 'injured',\n",
       "       'injuries', 'injury', 'inundated', 'inundation', 'landslide',\n",
       "       'lava', 'lightning', 'loud%20bang', 'mass%20murder',\n",
       "       'mass%20murderer', 'massacre', 'mayhem', 'meltdown', 'military',\n",
       "       'mudslide', 'natural%20disaster', 'nuclear%20disaster',\n",
       "       'nuclear%20reactor', 'obliterate', 'obliterated', 'obliteration',\n",
       "       'oil%20spill', 'outbreak', 'pandemonium', 'panic', 'panicking',\n",
       "       'police', 'quarantine', 'quarantined', 'radiation%20emergency',\n",
       "       'rainstorm', 'razed', 'refugees', 'rescue', 'rescued', 'rescuers',\n",
       "       'riot', 'rioting', 'rubble', 'ruin', 'sandstorm', 'screamed',\n",
       "       'screaming', 'screams', 'seismic', 'sinkhole', 'sinking', 'siren',\n",
       "       'sirens', 'smoke', 'snowstorm', 'storm', 'stretcher',\n",
       "       'structural%20failure', 'suicide%20bomb', 'suicide%20bomber',\n",
       "       'suicide%20bombing', 'sunk', 'survive', 'survived', 'survivors',\n",
       "       'terrorism', 'terrorist', 'threat', 'thunder', 'thunderstorm',\n",
       "       'tornado', 'tragedy', 'trapped', 'trauma', 'traumatised',\n",
       "       'trouble', 'tsunami', 'twister', 'typhoon', 'upheaval',\n",
       "       'violent%20storm', 'volcano', 'war%20zone', 'weapon', 'weapons',\n",
       "       'whirlwind', 'wild%20fires', 'wildfire', 'windstorm', 'wounded',\n",
       "       'wounds', 'wreck', 'wreckage', 'wrecked'], dtype=object)"
      ]
     },
     "execution_count": 20,
     "metadata": {},
     "output_type": "execute_result"
    }
   ],
   "source": [
    "data_df.keyword.unique()"
   ]
  },
  {
   "cell_type": "code",
   "execution_count": 21,
   "id": "59351d02",
   "metadata": {
    "execution": {
     "iopub.execute_input": "2023-08-01T05:06:03.918054Z",
     "iopub.status.busy": "2023-08-01T05:06:03.917648Z",
     "iopub.status.idle": "2023-08-01T05:06:03.922491Z",
     "shell.execute_reply": "2023-08-01T05:06:03.921413Z"
    },
    "papermill": {
     "duration": 0.018024,
     "end_time": "2023-08-01T05:06:03.924659",
     "exception": false,
     "start_time": "2023-08-01T05:06:03.906635",
     "status": "completed"
    },
    "tags": []
   },
   "outputs": [],
   "source": [
    "rename_map_X = {0:'bias',1:'pos',2:'neg'}\n",
    "rename_map_Y = {0:'target','col':'target'}"
   ]
  },
  {
   "cell_type": "code",
   "execution_count": 22,
   "id": "6d9abc08",
   "metadata": {
    "execution": {
     "iopub.execute_input": "2023-08-01T05:06:03.945269Z",
     "iopub.status.busy": "2023-08-01T05:06:03.944851Z",
     "iopub.status.idle": "2023-08-01T05:06:03.952978Z",
     "shell.execute_reply": "2023-08-01T05:06:03.952082Z"
    },
    "papermill": {
     "duration": 0.02116,
     "end_time": "2023-08-01T05:06:03.955460",
     "exception": false,
     "start_time": "2023-08-01T05:06:03.934300",
     "status": "completed"
    },
    "tags": []
   },
   "outputs": [],
   "source": [
    "eda_X = pd.DataFrame(X).rename(columns=rename_map_X)\n",
    "eda_Y = pd.DataFrame(Y).rename(columns=rename_map_Y)\n",
    "eda_prep = pd.concat([eda_X,eda_Y],axis=1)"
   ]
  },
  {
   "cell_type": "code",
   "execution_count": 23,
   "id": "8151f3ac",
   "metadata": {
    "execution": {
     "iopub.execute_input": "2023-08-01T05:06:03.975709Z",
     "iopub.status.busy": "2023-08-01T05:06:03.975305Z",
     "iopub.status.idle": "2023-08-01T05:06:03.983902Z",
     "shell.execute_reply": "2023-08-01T05:06:03.982699Z"
    },
    "papermill": {
     "duration": 0.021661,
     "end_time": "2023-08-01T05:06:03.986205",
     "exception": false,
     "start_time": "2023-08-01T05:06:03.964544",
     "status": "completed"
    },
    "tags": []
   },
   "outputs": [],
   "source": [
    "def confidence_ellipse(x, y, ax, n_std=3.0, facecolor='none', **kwargs):\n",
    "\n",
    "    if x.size != y.size:\n",
    "        raise ValueError(\"x and y must be the same size\")\n",
    "\n",
    "    cov = np.cov(x, y)\n",
    "    pearson = cov[0, 1] / np.sqrt(cov[0, 0] * cov[1, 1])\n",
    "\n",
    "    ell_radius_x = np.sqrt(1 + pearson)\n",
    "    ell_radius_y = np.sqrt(1 - pearson)\n",
    "    ellipse = Ellipse((0, 0),\n",
    "                      width=ell_radius_x * 2,\n",
    "                      height=ell_radius_y * 2,\n",
    "                      facecolor=facecolor,\n",
    "                      **kwargs)\n",
    "\n",
    "    scale_x = np.sqrt(cov[0, 0]) * n_std\n",
    "    mean_x = np.mean(x)\n",
    "\n",
    "    scale_y = np.sqrt(cov[1, 1]) * n_std\n",
    "    mean_y = np.mean(y)\n",
    "\n",
    "    transf = transforms.Affine2D() \\\n",
    "        .rotate_deg(45) \\\n",
    "        .scale(scale_x, scale_y) \\\n",
    "        .translate(mean_x, mean_y)\n",
    "\n",
    "    ellipse.set_transform(transf + ax.transData)\n",
    "    return ax.add_patch(ellipse)"
   ]
  },
  {
   "cell_type": "code",
   "execution_count": 24,
   "id": "40b0f5c6",
   "metadata": {
    "execution": {
     "iopub.execute_input": "2023-08-01T05:06:04.006666Z",
     "iopub.status.busy": "2023-08-01T05:06:04.005860Z",
     "iopub.status.idle": "2023-08-01T05:06:04.345427Z",
     "shell.execute_reply": "2023-08-01T05:06:04.344006Z"
    },
    "papermill": {
     "duration": 0.352817,
     "end_time": "2023-08-01T05:06:04.348310",
     "exception": false,
     "start_time": "2023-08-01T05:06:03.995493",
     "status": "completed"
    },
    "tags": []
   },
   "outputs": [
    {
     "data": {
      "image/png": "[encoded data removed]",
      "text/plain": [
       "<Figure size 800x800 with 1 Axes>"
      ]
     },
     "metadata": {},
     "output_type": "display_data"
    }
   ],
   "source": [
    "fig, ax= plt.subplots(figsize = (8, 8))\n",
    "colors = ['green','red'] # Define a color palete\n",
    "sentiments = ['negative','positive'] \n",
    "\n",
    "plt.xlim(-500,3000)  \n",
    "plt.ylim(-500,3000)\n",
    "\n",
    "index = eda_prep.index\n",
    "\n",
    "for sentiment in eda_prep.target.unique():\n",
    "    ix = index[eda_prep.target == sentiment]\n",
    "    ax.scatter(x=eda_prep.iloc[ix].pos, y=eda_prep.iloc[ix].neg, c=colors[int(sentiment)], s=1, marker='*', label=sentiments[int(sentiment)])\n",
    "\n",
    "ax.legend(loc='best')  \n",
    "\n",
    "plt.xlabel(\"Positive\") # x-axis label\n",
    "plt.ylabel(\"Negative\") # y-axis label\n",
    "\n",
    "eda_pos = eda_prep[eda_prep.target == 1]\n",
    "eda_neg = eda_prep[eda_prep.target == 0]\n",
    "\n",
    "plt.show()"
   ]
  },
  {
   "cell_type": "code",
   "execution_count": 25,
   "id": "9fde950e",
   "metadata": {
    "execution": {
     "iopub.execute_input": "2023-08-01T05:06:04.369630Z",
     "iopub.status.busy": "2023-08-01T05:06:04.369229Z",
     "iopub.status.idle": "2023-08-01T05:06:04.740320Z",
     "shell.execute_reply": "2023-08-01T05:06:04.739137Z"
    },
    "papermill": {
     "duration": 0.384647,
     "end_time": "2023-08-01T05:06:04.742849",
     "exception": false,
     "start_time": "2023-08-01T05:06:04.358202",
     "status": "completed"
    },
    "tags": []
   },
   "outputs": [
    {
     "data": {
      "image/png": "[encoded data removed]",
      "text/plain": [
       "<Figure size 800x800 with 1 Axes>"
      ]
     },
     "metadata": {},
     "output_type": "display_data"
    }
   ],
   "source": [
    "fig, ax= plt.subplots(figsize = (8, 8))\n",
    "colors = ['green','red'] # Define a color palete\n",
    "sentiments = ['negative','positive'] \n",
    "\n",
    "plt.xlim(-500,3000)  \n",
    "plt.ylim(-500,3000)\n",
    "\n",
    "index = eda_prep.index\n",
    "\n",
    "for sentiment in eda_prep.target.unique():\n",
    "    ix = index[eda_prep.target == sentiment]\n",
    "    ax.scatter(x=eda_prep.iloc[ix].pos, y=eda_prep.iloc[ix].neg, c=colors[int(sentiment)], s=1, marker='*', label=sentiments[int(sentiment)])\n",
    "\n",
    "ax.legend(loc='best')  \n",
    "\n",
    "plt.xlabel(\"Positive\") # x-axis label\n",
    "plt.ylabel(\"Negative\") # y-axis label\n",
    "\n",
    "eda_pos = eda_prep[eda_prep.target == 1]\n",
    "eda_neg = eda_prep[eda_prep.target == 0]\n",
    "\n",
    "confidence_ellipse(eda_pos.pos, eda_pos.neg, ax, n_std=2, edgecolor='black', label=r'$2\\sigma$' )\n",
    "confidence_ellipse(eda_neg.pos, eda_neg.neg, ax, n_std=2, edgecolor='orange')\n",
    "\n",
    "confidence_ellipse(eda_pos.pos, eda_pos.neg, ax, n_std=3, edgecolor='black', linestyle=':', label=r'$3\\sigma$')\n",
    "confidence_ellipse(eda_neg.pos, eda_neg.neg, ax, n_std=3, edgecolor='orange', linestyle=':')\n",
    "\n",
    "plt.show()"
   ]
  },
  {
   "cell_type": "markdown",
   "id": "be5c4487",
   "metadata": {
    "papermill": {
     "duration": 0.010772,
     "end_time": "2023-08-01T05:06:04.765247",
     "exception": false,
     "start_time": "2023-08-01T05:06:04.754475",
     "status": "completed"
    },
    "tags": []
   },
   "source": [
    "**Training the model**"
   ]
  },
  {
   "cell_type": "code",
   "execution_count": 26,
   "id": "46fd234b",
   "metadata": {
    "execution": {
     "iopub.execute_input": "2023-08-01T05:06:04.789083Z",
     "iopub.status.busy": "2023-08-01T05:06:04.788328Z",
     "iopub.status.idle": "2023-08-01T05:06:14.525057Z",
     "shell.execute_reply": "2023-08-01T05:06:14.523828Z"
    },
    "papermill": {
     "duration": 9.752172,
     "end_time": "2023-08-01T05:06:14.528346",
     "exception": false,
     "start_time": "2023-08-01T05:06:04.776174",
     "status": "completed"
    },
    "tags": []
   },
   "outputs": [],
   "source": [
    "J, theta = gradientDescent(X, Y, np.zeros((3, 1)), 1e-08,6000)"
   ]
  },
  {
   "cell_type": "code",
   "execution_count": 27,
   "id": "e57a543d",
   "metadata": {
    "execution": {
     "iopub.execute_input": "2023-08-01T05:06:14.567491Z",
     "iopub.status.busy": "2023-08-01T05:06:14.566965Z",
     "iopub.status.idle": "2023-08-01T05:06:14.583504Z",
     "shell.execute_reply": "2023-08-01T05:06:14.582343Z"
    },
    "papermill": {
     "duration": 0.040181,
     "end_time": "2023-08-01T05:06:14.587089",
     "exception": false,
     "start_time": "2023-08-01T05:06:14.546908",
     "status": "completed"
    },
    "tags": []
   },
   "outputs": [
    {
     "name": "stdout",
     "output_type": "stream",
     "text": [
      "['someth', 'happen', 'see', 'flame', 'build']\n",
      "[[0.49161773]]\n",
      "Maybe not a disaster\n"
     ]
    }
   ],
   "source": [
    "my_tweet = 'Something is happening. I can see the flame from that building!'\n",
    "print(process_tweet(my_tweet))\n",
    "y_hat = predict_tweet(my_tweet, freqs, theta)\n",
    "print(y_hat)\n",
    "if y_hat > 0.5:\n",
    "    print('Potential disaster')\n",
    "else: \n",
    "    print('Maybe not a disaster')"
   ]
  },
  {
   "cell_type": "markdown",
   "id": "020003d9",
   "metadata": {
    "papermill": {
     "duration": 0.017697,
     "end_time": "2023-08-01T05:06:14.624020",
     "exception": false,
     "start_time": "2023-08-01T05:06:14.606323",
     "status": "completed"
    },
    "tags": []
   },
   "source": [
    "**Making prediction based **"
   ]
  },
  {
   "cell_type": "code",
   "execution_count": null,
   "id": "53606b6b",
   "metadata": {
    "papermill": {
     "duration": 0.011086,
     "end_time": "2023-08-01T05:06:14.654001",
     "exception": false,
     "start_time": "2023-08-01T05:06:14.642915",
     "status": "completed"
    },
    "tags": []
   },
   "outputs": [],
   "source": []
  }
 ],
 "metadata": {
  "kernelspec": {
   "display_name": "Python 3",
   "language": "python",
   "name": "python3"
  },
  "language_info": {
   "codemirror_mode": {
    "name": "ipython",
    "version": 3
   },
   "file_extension": ".py",
   "mimetype": "text/x-python",
   "name": "python",
   "nbconvert_exporter": "python",
   "pygments_lexer": "ipython3",
   "version": "3.10.12"
  },
  "papermill": {
   "default_parameters": {},
   "duration": 31.560166,
   "end_time": "2023-08-01T05:06:15.688251",
   "environment_variables": {},
   "exception": null,
   "input_path": "__notebook__.ipynb",
   "output_path": "__notebook__.ipynb",
   "parameters": {},
   "start_time": "2023-08-01T05:05:44.128085",
   "version": "2.4.0"
  }
 },
 "nbformat": 4,
 "nbformat_minor": 5
}
